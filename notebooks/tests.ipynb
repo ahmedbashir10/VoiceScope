{
 "cells": [
  {
   "cell_type": "markdown",
   "id": "f5e89745",
   "metadata": {},
   "source": [
    "# Speaker Identification using Classical Machine Learning\n",
    "\n",
    "In this notebook, we classify speakers using audio samples. We extract MFCC features and use classical ML models such as:\n",
    "- K-Nearest Neighbors (KNN)\n",
    "- Support Vector Machine (SVM)\n",
    "- Logistic Regression (LR)\n",
    "- Random Forest (RF)\n",
    "- Ensemble models: Voting & Stacking\n",
    "\n",
    "Dataset: Mozilla Common Voice (subset)\n",
    "Features: MFCC (13 coefficients)\n"
   ]
  },
  {
   "cell_type": "markdown",
   "id": "4f21ba8b",
   "metadata": {},
   "source": [
    "## 1. Setup and Imports\n",
    "We import the necessary libraries for audio processing, feature extraction, model training, and evaluation."
   ]
  },
  {
   "cell_type": "code",
   "execution_count": 2,
   "id": "2237bf06",
   "metadata": {},
   "outputs": [],
   "source": [
    "import os\n",
    "import numpy as np\n",
    "import pandas as pd\n",
    "import librosa\n",
    "import matplotlib.pyplot as plt\n",
    "\n",
    "from sklearn.model_selection import train_test_split, cross_val_score\n",
    "from sklearn.preprocessing import StandardScaler\n",
    "from sklearn.metrics import accuracy_score, confusion_matrix, classification_report, ConfusionMatrixDisplay\n",
    "\n",
    "from sklearn.neighbors import KNeighborsClassifier\n",
    "from sklearn.svm import SVC\n",
    "from sklearn.linear_model import LogisticRegression\n",
    "from sklearn.ensemble import RandomForestClassifier, VotingClassifier, StackingClassifier\n"
   ]
  },
  {
   "cell_type": "markdown",
   "id": "58453622",
   "metadata": {},
   "source": [
    "## 2. Load and Label Audio Data\n",
    "\n",
    "We use the Mozilla Common Voice dataset. All audio `.wav` files are located in the `clips/` directory. Each audio clip is linked to a speaker via the `client_id` field in `validated.tsv`.\n",
    "\n",
    "Steps:\n",
    "- Load metadata (`validated.tsv`)\n",
    "- Select a subset of speakers (e.g., top 10 with the most recordings)\n",
    "- Extract MFCCs from each clip and label using `client_id`\n"
   ]
  },
  {
   "cell_type": "markdown",
   "id": "171c4b28",
   "metadata": {},
   "source": [
    "data/\n",
    "└── cv-corpus-21.0-delta-2025-03-14-en\n",
    "    └── cv-corpus-21.0-delta-2025-03-14\n",
    "        └── en\n",
    "            ├── clip_durations.tsv\n",
    "            ├── clips                                                        <-- all audio .mp3 files here\n",
    "            │   └── common_voice_en_41980499.mp3                             <-- metadata including speaker_id                    \n",
    "            ├── invalidated.tsv\n",
    "            ├── other.tsv\n",
    "            ├── reported.tsv\n",
    "            ├── unvalidated_sentences.tsv\n",
    "            ├── validated_sentences.tsv\n",
    "            └── validated.tsv"
   ]
  },
  {
   "cell_type": "code",
   "execution_count": 10,
   "id": "f84f74d2",
   "metadata": {},
   "outputs": [
    {
     "name": "stdout",
     "output_type": "stream",
     "text": [
      "Selected 8 speakers\n",
      "Total samples: 40\n"
     ]
    },
    {
     "name": "stderr",
     "output_type": "stream",
     "text": [
      "100%|██████████| 40/40 [00:02<00:00, 13.75it/s]"
     ]
    },
    {
     "name": "stdout",
     "output_type": "stream",
     "text": [
      "\n",
      "Feature matrix shape: (40, 45)\n",
      "Labels shape: (40,)\n",
      "Saved features to dataset.npz\n"
     ]
    },
    {
     "name": "stderr",
     "output_type": "stream",
     "text": [
      "\n"
     ]
    }
   ],
   "source": [
    "import os\n",
    "import numpy as np\n",
    "import pandas as pd\n",
    "import librosa\n",
    "from tqdm import tqdm\n",
    "\n",
    "# --- Configuration ---\n",
    "base_dir = \"../data/cv-corpus-21.0-delta-2025-03-14-en/cv-corpus-21.0-delta-2025-03-14/en\"\n",
    "clips_dir = os.path.join(base_dir, \"clips\")\n",
    "metadata_file = os.path.join(base_dir, \"validated.tsv\")\n",
    "\n",
    "# --- Load metadata ---\n",
    "df = pd.read_csv(metadata_file, sep=\"\\t\")\n",
    "df = df[['path', 'client_id']]  # Keep only necessary columns\n",
    "\n",
    "# --- Filter all speakers with at least MIN_CLIPS_PER_SPEAKER ---\n",
    "MIN_CLIPS_PER_SPEAKER = 5\n",
    "\n",
    "speaker_counts = df['client_id'].value_counts()\n",
    "eligible_speakers = speaker_counts[speaker_counts >= MIN_CLIPS_PER_SPEAKER].index\n",
    "df = df[df['client_id'].isin(eligible_speakers)]\n",
    "df = df.groupby('client_id').head(MIN_CLIPS_PER_SPEAKER)\n",
    "\n",
    "print(f\"Selected {df['client_id'].nunique()} speakers\")\n",
    "print(f\"Total samples: {len(df)}\")\n",
    "\n",
    "# --- Feature extraction function ---\n",
    "def extract_features(file_path, sr=16000, n_mfcc=13):\n",
    "    y, sr = librosa.load(file_path, sr=sr)\n",
    "\n",
    "    # MFCC\n",
    "    mfcc = librosa.feature.mfcc(y=y, sr=sr, n_mfcc=n_mfcc)\n",
    "    mfcc_mean = np.mean(mfcc, axis=1)\n",
    "\n",
    "    # Delta MFCC\n",
    "    delta_mfcc = librosa.feature.delta(mfcc)\n",
    "    delta_mean = np.mean(delta_mfcc, axis=1)\n",
    "\n",
    "    # Chroma STFT\n",
    "    chroma = librosa.feature.chroma_stft(y=y, sr=sr)\n",
    "    chroma_mean = np.mean(chroma, axis=1)\n",
    "\n",
    "    # Spectral Contrast\n",
    "    contrast = librosa.feature.spectral_contrast(y=y, sr=sr)\n",
    "    contrast_mean = np.mean(contrast, axis=1)\n",
    "\n",
    "    # Combine all features\n",
    "    features = np.concatenate([mfcc_mean, delta_mean, chroma_mean, contrast_mean])\n",
    "    return features\n",
    "\n",
    "# --- Extract features for all clips ---\n",
    "X = []\n",
    "y = []\n",
    "\n",
    "for _, row in tqdm(df.iterrows(), total=len(df)):\n",
    "    file_path = os.path.join(clips_dir, row['path'])\n",
    "    try:\n",
    "        features = extract_features(file_path)\n",
    "        X.append(features)\n",
    "        y.append(row['client_id'])\n",
    "    except Exception as e:\n",
    "        print(f\"Error processing {file_path}: {e}\")\n",
    "\n",
    "X = np.array(X)\n",
    "y = np.array(y)\n",
    "\n",
    "print(f\"\\nFeature matrix shape: {X.shape}\")\n",
    "print(f\"Labels shape: {y.shape}\")\n",
    "\n",
    "# --- Save processed dataset to .npz ---\n",
    "save_path = \"dataset.npz\"\n",
    "np.savez_compressed(save_path, X=X, y=y)\n",
    "print(f\"Saved features to {save_path}\")\n"
   ]
  },
  {
   "cell_type": "code",
   "execution_count": null,
   "id": "f30df579",
   "metadata": {},
   "outputs": [
    {
     "name": "stdout",
     "output_type": "stream",
     "text": [
      "Total unique speakers: 47\n",
      "Total clips: 249\n",
      "\n",
      "Speakers with at least N clips:\n",
      "  ≥ 5 clips: 8 speakers\n",
      "  ≥ 10 clips: 3 speakers\n",
      "  ≥ 15 clips: 3 speakers\n",
      "  ≥ 20 clips: 3 speakers\n",
      "  ≥ 30 clips: 2 speakers\n",
      "  ≥ 50 clips: 1 speakers\n",
      "  ≥ 100 clips: 0 speakers\n"
     ]
    },
    {
     "data": {
      "image/png": "[encoded data removed]",
      "text/plain": [
       "<Figure size 1000x500 with 1 Axes>"
      ]
     },
     "metadata": {},
     "output_type": "display_data"
    }
   ],
   "source": [
    "import os\n",
    "import pandas as pd\n",
    "import matplotlib.pyplot as plt\n",
    "\n",
    "# --- Paths ---\n",
    "#base_dir = \"../data/cv-corpus-21.0-delta-2025-03-14-en/cv-corpus-21.0-delta-2025-03-14/en\"\n",
    "base_dir = \"../dataset/cv-corpus-18.0-delta-2024-06-14-en/cv-corpus-18.0-delta-2024-06-14/en\"\n",
    "metadata_file = os.path.join(base_dir, \"validated.tsv\")\n",
    "\n",
    "# --- Load metadata ---\n",
    "df = pd.read_csv(metadata_file, sep=\"\\t\")\n",
    "df = df[['path', 'client_id']]  # Keep only relevant columns\n",
    "\n",
    "# --- Speaker distribution ---\n",
    "speaker_counts = df['client_id'].value_counts()\n",
    "\n",
    "print(f\"Total unique speakers: {speaker_counts.shape[0]}\")\n",
    "print(f\"Total clips: {df.shape[0]}\")\n",
    "\n",
    "# --- Threshold report ---\n",
    "thresholds = [5, 10, 15, 20, 30, 50, 100]\n",
    "print(\"\\nSpeakers with at least N clips:\")\n",
    "for t in thresholds:\n",
    "    count = (speaker_counts >= t).sum()\n",
    "    print(f\"  ≥ {t} clips: {count} speakers\")\n",
    "\n",
    "# --- Plot histogram ---\n",
    "plt.figure(figsize=(10, 5))\n",
    "speaker_counts.hist(bins=50)\n",
    "plt.title(\"Distribution of Number of Clips per Speaker\")\n",
    "plt.xlabel(\"Number of Clips\")\n",
    "plt.ylabel(\"Number of Speakers\")\n",
    "plt.grid(True)\n",
    "plt.tight_layout()\n",
    "plt.show()\n"
   ]
  },
  {
   "cell_type": "code",
   "execution_count": 12,
   "id": "1388bd7f",
   "metadata": {},
   "outputs": [
    {
     "name": "stdout",
     "output_type": "stream",
     "text": [
      "Total unique speakers: 88\n",
      "Total clips: 326\n",
      "\n",
      "Speakers with at least N clips:\n",
      "  ≥ 5 clips: 15 speakers\n",
      "  ≥ 10 clips: 7 speakers\n",
      "  ≥ 15 clips: 5 speakers\n",
      "  ≥ 20 clips: 2 speakers\n",
      "  ≥ 30 clips: 2 speakers\n",
      "  ≥ 50 clips: 1 speakers\n",
      "  ≥ 100 clips: 0 speakers\n"
     ]
    },
    {
     "data": {
      "image/png": "[encoded data removed]",
      "text/plain": [
       "<Figure size 1000x500 with 1 Axes>"
      ]
     },
     "metadata": {},
     "output_type": "display_data"
    }
   ],
   "source": [
    "import os\n",
    "import pandas as pd\n",
    "import matplotlib.pyplot as plt\n",
    "\n",
    "# --- Paths ---\n",
    "#base_dir = \"../data/cv-corpus-21.0-delta-2025-03-14-en/cv-corpus-21.0-delta-2025-03-14/en\"\n",
    "base_dir = \"../dataset/cv-corpus-18.0-delta-2024-06-14-en/cv-corpus-18.0-delta-2024-06-14/en\"\n",
    "metadata_file = os.path.join(base_dir, \"validated.tsv\")\n",
    "\n",
    "# --- Load metadata ---\n",
    "df = pd.read_csv(metadata_file, sep=\"\\t\")\n",
    "df = df[['path', 'client_id']]  # Keep only relevant columns\n",
    "\n",
    "# --- Speaker distribution ---\n",
    "speaker_counts = df['client_id'].value_counts()\n",
    "\n",
    "print(f\"Total unique speakers: {speaker_counts.shape[0]}\")\n",
    "print(f\"Total clips: {df.shape[0]}\")\n",
    "\n",
    "# --- Threshold report ---\n",
    "thresholds = [5, 10, 15, 20, 30, 50, 100]\n",
    "print(\"\\nSpeakers with at least N clips:\")\n",
    "for t in thresholds:\n",
    "    count = (speaker_counts >= t).sum()\n",
    "    print(f\"  ≥ {t} clips: {count} speakers\")\n",
    "\n",
    "# --- Plot histogram ---\n",
    "plt.figure(figsize=(10, 5))\n",
    "speaker_counts.hist(bins=50)\n",
    "plt.title(\"Distribution of Number of Clips per Speaker\")\n",
    "plt.xlabel(\"Number of Clips\")\n",
    "plt.ylabel(\"Number of Speakers\")\n",
    "plt.grid(True)\n",
    "plt.tight_layout()\n",
    "plt.show()\n"
   ]
  },
  {
   "cell_type": "code",
   "execution_count": 6,
   "id": "c527f8d6",
   "metadata": {},
   "outputs": [
    {
     "name": "stdout",
     "output_type": "stream",
     "text": [
      "Total unique speakers: 377\n",
      "Total clips: 3408\n",
      "\n",
      "Speakers with at least N clips:\n",
      "  ≥ 2 clips: 156 speakers\n",
      "  ≥ 5 clips: 66 speakers\n",
      "  ≥ 10 clips: 41 speakers\n",
      "  ≥ 15 clips: 31 speakers\n",
      "  ≥ 20 clips: 26 speakers\n",
      "  ≥ 30 clips: 17 speakers\n",
      "  ≥ 50 clips: 10 speakers\n",
      "  ≥ 100 clips: 5 speakers\n"
     ]
    },
    {
     "data": {
      "image/png": "[encoded data removed]",
      "text/plain": [
       "<Figure size 1000x500 with 1 Axes>"
      ]
     },
     "metadata": {},
     "output_type": "display_data"
    }
   ],
   "source": [
    "import os\n",
    "import pandas as pd\n",
    "import matplotlib.pyplot as plt\n",
    "\n",
    "# --- Paths ---\n",
    "#base_dir = \"../data/cv-corpus-21.0-delta-2025-03-14-en/cv-corpus-21.0-delta-2025-03-14/en\"\n",
    "base_dir = \"../data/cv-corpus-16.1-delta-2023-12-06-en/cv-corpus-16.1-delta-2023-12-06/en\"\n",
    "metadata_file = os.path.join(base_dir, \"validated.tsv\")\n",
    "\n",
    "# --- Load metadata ---\n",
    "df = pd.read_csv(metadata_file, sep=\"\\t\")\n",
    "df = df[['path', 'client_id']]  # Keep only relevant columns\n",
    "\n",
    "# --- Speaker distribution ---\n",
    "speaker_counts = df['client_id'].value_counts()\n",
    "\n",
    "print(f\"Total unique speakers: {speaker_counts.shape[0]}\")\n",
    "print(f\"Total clips: {df.shape[0]}\")\n",
    "\n",
    "# --- Threshold report ---\n",
    "thresholds = [2, 5, 10, 15, 20, 30, 50, 100]\n",
    "print(\"\\nSpeakers with at least N clips:\")\n",
    "for t in thresholds:\n",
    "    count = (speaker_counts >= t).sum()\n",
    "    print(f\"  ≥ {t} clips: {count} speakers\")\n",
    "\n",
    "# --- Plot histogram ---\n",
    "plt.figure(figsize=(10, 5))\n",
    "speaker_counts.hist(bins=50)\n",
    "plt.title(\"Distribution of Number of Clips per Speaker\")\n",
    "plt.xlabel(\"Number of Clips\")\n",
    "plt.ylabel(\"Number of Speakers\")\n",
    "plt.grid(True)\n",
    "plt.tight_layout()\n",
    "plt.show()\n"
   ]
  },
  {
   "cell_type": "code",
   "execution_count": 7,
   "id": "1fc2b3f3",
   "metadata": {},
   "outputs": [
    {
     "name": "stdout",
     "output_type": "stream",
     "text": [
      "Saved features to processed_speaker_data.npz\n"
     ]
    }
   ],
   "source": [
    "# Save features and labels for later use\n",
    "save_path = \"processed_speaker_data.npz\"\n",
    "np.savez_compressed(save_path, X=X, y=y)\n",
    "\n",
    "print(f\"Saved features to {save_path}\")\n"
   ]
  },
  {
   "cell_type": "code",
   "execution_count": 1,
   "id": "dacea703",
   "metadata": {},
   "outputs": [
    {
     "name": "stdout",
     "output_type": "stream",
     "text": [
      "\n",
      " Evaluating KNN\n"
     ]
    },
    {
     "ename": "NameError",
     "evalue": "name 'X_test' is not defined",
     "output_type": "error",
     "traceback": [
      "\u001b[31m---------------------------------------------------------------------------\u001b[39m",
      "\u001b[31mNameError\u001b[39m                                 Traceback (most recent call last)",
      "\u001b[36mCell\u001b[39m\u001b[36m \u001b[39m\u001b[32mIn[1]\u001b[39m\u001b[32m, line 24\u001b[39m\n\u001b[32m     21\u001b[39m \u001b[38;5;28mprint\u001b[39m(\u001b[33mf\u001b[39m\u001b[33m\"\u001b[39m\u001b[38;5;130;01m\\n\u001b[39;00m\u001b[33m Evaluating \u001b[39m\u001b[38;5;132;01m{\u001b[39;00mname\u001b[38;5;132;01m}\u001b[39;00m\u001b[33m\"\u001b[39m)\n\u001b[32m     23\u001b[39m \u001b[38;5;66;03m# Predict\u001b[39;00m\n\u001b[32m---> \u001b[39m\u001b[32m24\u001b[39m y_pred = model.predict(\u001b[43mX_test\u001b[49m)\n\u001b[32m     26\u001b[39m \u001b[38;5;66;03m# Accuracy\u001b[39;00m\n\u001b[32m     27\u001b[39m acc = accuracy_score(y_test, y_pred)\n",
      "\u001b[31mNameError\u001b[39m: name 'X_test' is not defined"
     ]
    }
   ],
   "source": [
    "import joblib\n",
    "from sklearn.metrics import accuracy_score, classification_report, ConfusionMatrixDisplay\n",
    "from sklearn.model_selection import cross_val_score\n",
    "import matplotlib.pyplot as plt\n",
    "\n",
    "# --- Load models ---\n",
    "knn = joblib.load(\"../models/knn_model.joblib\")\n",
    "svm = joblib.load(\"../models/svm_model.joblib\")\n",
    "lr = joblib.load(\"../models/logistic_regression_model.joblib\")\n",
    "rf = joblib.load(\"../models/random_forest_model.joblib\")\n",
    "\n",
    "models = {\n",
    "    \"KNN\": knn,\n",
    "    \"SVM\": svm,\n",
    "    \"Logistic Regression\": lr,\n",
    "    \"Random Forest\": rf\n",
    "}\n",
    "\n",
    "# --- Evaluate ---\n",
    "for name, model in models.items():\n",
    "    print(f\"\\n Evaluating {name}\")\n",
    "\n",
    "    # Predict\n",
    "    y_pred = model.predict(X_test)\n",
    "\n",
    "    # Accuracy\n",
    "    acc = accuracy_score(y_test, y_pred)\n",
    "    print(f\"Test Accuracy: {acc:.4f}\")\n",
    "\n",
    "    # Classification Report\n",
    "    print(\"Classification Report:\")\n",
    "    print(classification_report(y_test, y_pred))\n",
    "\n",
    "    # Confusion Matrix\n",
    "    ConfusionMatrixDisplay.from_estimator(model, X_test, y_test, cmap='Blues')\n",
    "    plt.title(f\"{name} - Confusion Matrix\")\n",
    "    plt.show()\n",
    "\n",
    "    # Optional: 5-Fold Cross-Validation\n",
    "    cv_scores = cross_val_score(model, X_scaled, y_encoded, cv=5)\n",
    "    print(f\"5-Fold CV Accuracy: {cv_scores.mean():.4f} ± {cv_scores.std():.4f}\")\n"
   ]
  }
 ],
 "metadata": {
  "kernelspec": {
   "display_name": ".venv",
   "language": "python",
   "name": "python3"
  },
  "language_info": {
   "codemirror_mode": {
    "name": "ipython",
    "version": 3
   },
   "file_extension": ".py",
   "mimetype": "text/x-python",
   "name": "python",
   "nbconvert_exporter": "python",
   "pygments_lexer": "ipython3",
   "version": "3.12.3"
  }
 },
 "nbformat": 4,
 "nbformat_minor": 5
}
